{
 "cells": [
  {
   "cell_type": "code",
   "execution_count": 1,
   "id": "895eb116",
   "metadata": {
    "_cell_guid": "b1076dfc-b9ad-4769-8c92-a6c4dae69d19",
    "_uuid": "8f2839f25d086af736a60e9eeb907d3b93b6e0e5",
    "execution": {
     "iopub.execute_input": "2022-05-08T12:59:27.382679Z",
     "iopub.status.busy": "2022-05-08T12:59:27.382305Z",
     "iopub.status.idle": "2022-05-08T12:59:27.432328Z",
     "shell.execute_reply": "2022-05-08T12:59:27.431507Z"
    },
    "papermill": {
     "duration": 0.066336,
     "end_time": "2022-05-08T12:59:27.435054",
     "exception": false,
     "start_time": "2022-05-08T12:59:27.368718",
     "status": "completed"
    },
    "tags": []
   },
   "outputs": [],
   "source": [
    "%load_ext autoreload\n",
    "%autoreload 2"
   ]
  },
  {
   "cell_type": "code",
   "execution_count": 2,
   "id": "9b70ef60",
   "metadata": {
    "execution": {
     "iopub.execute_input": "2022-05-08T12:59:27.459291Z",
     "iopub.status.busy": "2022-05-08T12:59:27.458809Z",
     "iopub.status.idle": "2022-05-08T12:59:27.496241Z",
     "shell.execute_reply": "2022-05-08T12:59:27.495091Z"
    },
    "papermill": {
     "duration": 0.052556,
     "end_time": "2022-05-08T12:59:27.498875",
     "exception": false,
     "start_time": "2022-05-08T12:59:27.446319",
     "status": "completed"
    },
    "tags": []
   },
   "outputs": [],
   "source": [
    "import os\n",
    "\n",
    "origin_path = \"/kaggle/working\"\n",
    "repo_path = \"/kaggle/working/american_options\""
   ]
  },
  {
   "cell_type": "code",
   "execution_count": 3,
   "id": "b06471e2",
   "metadata": {
    "execution": {
     "iopub.execute_input": "2022-05-08T12:59:27.522350Z",
     "iopub.status.busy": "2022-05-08T12:59:27.521483Z",
     "iopub.status.idle": "2022-05-08T12:59:30.406976Z",
     "shell.execute_reply": "2022-05-08T12:59:30.406083Z"
    },
    "papermill": {
     "duration": 2.900197,
     "end_time": "2022-05-08T12:59:30.409643",
     "exception": false,
     "start_time": "2022-05-08T12:59:27.509446",
     "status": "completed"
    },
    "tags": []
   },
   "outputs": [],
   "source": [
    "%%capture\n",
    "!rm -rf /kaggle/working/\n",
    "!git clone https://github.com/konmue/american_options.git"
   ]
  },
  {
   "cell_type": "code",
   "execution_count": 4,
   "id": "e2da0bc6",
   "metadata": {
    "execution": {
     "iopub.execute_input": "2022-05-08T12:59:30.432137Z",
     "iopub.status.busy": "2022-05-08T12:59:30.431852Z",
     "iopub.status.idle": "2022-05-08T12:59:30.489862Z",
     "shell.execute_reply": "2022-05-08T12:59:30.488876Z"
    },
    "papermill": {
     "duration": 0.072642,
     "end_time": "2022-05-08T12:59:30.492430",
     "exception": false,
     "start_time": "2022-05-08T12:59:30.419788",
     "status": "completed"
    },
    "tags": []
   },
   "outputs": [],
   "source": [
    "os.chdir(repo_path)"
   ]
  },
  {
   "cell_type": "code",
   "execution_count": 5,
   "id": "6b4c8ca6",
   "metadata": {
    "execution": {
     "iopub.execute_input": "2022-05-08T12:59:30.518513Z",
     "iopub.status.busy": "2022-05-08T12:59:30.517758Z",
     "iopub.status.idle": "2022-05-08T12:59:33.247372Z",
     "shell.execute_reply": "2022-05-08T12:59:33.245967Z"
    },
    "papermill": {
     "duration": 2.746018,
     "end_time": "2022-05-08T12:59:33.250250",
     "exception": false,
     "start_time": "2022-05-08T12:59:30.504232",
     "status": "completed"
    },
    "tags": []
   },
   "outputs": [],
   "source": [
    "%%capture\n",
    "!python setup.py install"
   ]
  },
  {
   "cell_type": "code",
   "execution_count": 6,
   "id": "3f3aa7da",
   "metadata": {
    "execution": {
     "iopub.execute_input": "2022-05-08T12:59:33.275020Z",
     "iopub.status.busy": "2022-05-08T12:59:33.274538Z",
     "iopub.status.idle": "2022-05-08T12:59:36.728166Z",
     "shell.execute_reply": "2022-05-08T12:59:36.726813Z"
    },
    "papermill": {
     "duration": 3.469748,
     "end_time": "2022-05-08T12:59:36.731267",
     "exception": false,
     "start_time": "2022-05-08T12:59:33.261519",
     "status": "completed"
    },
    "tags": []
   },
   "outputs": [],
   "source": [
    "import pandas as pd\n",
    "\n",
    "from deep_ao.algorithms.lsm.main import main"
   ]
  },
  {
   "cell_type": "code",
   "execution_count": 7,
   "id": "6119dbb0",
   "metadata": {
    "execution": {
     "iopub.execute_input": "2022-05-08T12:59:36.755747Z",
     "iopub.status.busy": "2022-05-08T12:59:36.755421Z",
     "iopub.status.idle": "2022-05-08T14:31:47.485454Z",
     "shell.execute_reply": "2022-05-08T14:31:47.484219Z"
    },
    "papermill": {
     "duration": 5530.747184,
     "end_time": "2022-05-08T14:31:47.489470",
     "exception": false,
     "start_time": "2022-05-08T12:59:36.742286",
     "status": "completed"
    },
    "tags": []
   },
   "outputs": [
    {
     "name": "stdout",
     "output_type": "stream",
     "text": [
      "training model for d = 5, s0 = 90, feature key = base\n"
     ]
    },
    {
     "name": "stderr",
     "output_type": "stream",
     "text": [
      "100%|██████████| 10/10 [00:02<00:00,  3.95it/s]\n"
     ]
    },
    {
     "name": "stdout",
     "output_type": "stream",
     "text": [
      "training model for d = 5, s0 = 90, feature key = ls\n"
     ]
    },
    {
     "name": "stderr",
     "output_type": "stream",
     "text": [
      "100%|██████████| 10/10 [00:04<00:00,  2.29it/s]\n"
     ]
    },
    {
     "name": "stdout",
     "output_type": "stream",
     "text": [
      "training model for d = 5, s0 = 90, feature key = r-NN\n"
     ]
    },
    {
     "name": "stderr",
     "output_type": "stream",
     "text": [
      "100%|██████████| 10/10 [00:05<00:00,  1.96it/s]\n"
     ]
    },
    {
     "name": "stdout",
     "output_type": "stream",
     "text": [
      "training model for d = 5, s0 = 100, feature key = base\n"
     ]
    },
    {
     "name": "stderr",
     "output_type": "stream",
     "text": [
      "100%|██████████| 10/10 [00:02<00:00,  3.88it/s]\n"
     ]
    },
    {
     "name": "stdout",
     "output_type": "stream",
     "text": [
      "training model for d = 5, s0 = 100, feature key = ls\n"
     ]
    },
    {
     "name": "stderr",
     "output_type": "stream",
     "text": [
      "100%|██████████| 10/10 [00:04<00:00,  2.35it/s]\n"
     ]
    },
    {
     "name": "stdout",
     "output_type": "stream",
     "text": [
      "training model for d = 5, s0 = 100, feature key = r-NN\n"
     ]
    },
    {
     "name": "stderr",
     "output_type": "stream",
     "text": [
      "100%|██████████| 10/10 [00:06<00:00,  1.61it/s]\n"
     ]
    },
    {
     "name": "stdout",
     "output_type": "stream",
     "text": [
      "training model for d = 5, s0 = 110, feature key = base\n"
     ]
    },
    {
     "name": "stderr",
     "output_type": "stream",
     "text": [
      "100%|██████████| 10/10 [00:02<00:00,  4.03it/s]\n"
     ]
    },
    {
     "name": "stdout",
     "output_type": "stream",
     "text": [
      "training model for d = 5, s0 = 110, feature key = ls\n"
     ]
    },
    {
     "name": "stderr",
     "output_type": "stream",
     "text": [
      "100%|██████████| 10/10 [00:05<00:00,  1.93it/s]\n"
     ]
    },
    {
     "name": "stdout",
     "output_type": "stream",
     "text": [
      "training model for d = 5, s0 = 110, feature key = r-NN\n"
     ]
    },
    {
     "name": "stderr",
     "output_type": "stream",
     "text": [
      "100%|██████████| 10/10 [00:06<00:00,  1.54it/s]\n"
     ]
    },
    {
     "name": "stdout",
     "output_type": "stream",
     "text": [
      "training model for d = 10, s0 = 90, feature key = base\n"
     ]
    },
    {
     "name": "stderr",
     "output_type": "stream",
     "text": [
      "100%|██████████| 10/10 [00:03<00:00,  2.66it/s]\n"
     ]
    },
    {
     "name": "stdout",
     "output_type": "stream",
     "text": [
      "training model for d = 10, s0 = 90, feature key = ls\n"
     ]
    },
    {
     "name": "stderr",
     "output_type": "stream",
     "text": [
      "100%|██████████| 10/10 [00:07<00:00,  1.30it/s]\n"
     ]
    },
    {
     "name": "stdout",
     "output_type": "stream",
     "text": [
      "training model for d = 10, s0 = 90, feature key = r-NN\n"
     ]
    },
    {
     "name": "stderr",
     "output_type": "stream",
     "text": [
      "100%|██████████| 10/10 [00:07<00:00,  1.42it/s]\n"
     ]
    },
    {
     "name": "stdout",
     "output_type": "stream",
     "text": [
      "training model for d = 10, s0 = 100, feature key = base\n"
     ]
    },
    {
     "name": "stderr",
     "output_type": "stream",
     "text": [
      "100%|██████████| 10/10 [00:03<00:00,  2.51it/s]\n"
     ]
    },
    {
     "name": "stdout",
     "output_type": "stream",
     "text": [
      "training model for d = 10, s0 = 100, feature key = ls\n"
     ]
    },
    {
     "name": "stderr",
     "output_type": "stream",
     "text": [
      "100%|██████████| 10/10 [00:09<00:00,  1.10it/s]\n"
     ]
    },
    {
     "name": "stdout",
     "output_type": "stream",
     "text": [
      "training model for d = 10, s0 = 100, feature key = r-NN\n"
     ]
    },
    {
     "name": "stderr",
     "output_type": "stream",
     "text": [
      "100%|██████████| 10/10 [00:08<00:00,  1.25it/s]\n"
     ]
    },
    {
     "name": "stdout",
     "output_type": "stream",
     "text": [
      "training model for d = 10, s0 = 110, feature key = base\n"
     ]
    },
    {
     "name": "stderr",
     "output_type": "stream",
     "text": [
      "100%|██████████| 10/10 [00:04<00:00,  2.24it/s]\n"
     ]
    },
    {
     "name": "stdout",
     "output_type": "stream",
     "text": [
      "training model for d = 10, s0 = 110, feature key = ls\n"
     ]
    },
    {
     "name": "stderr",
     "output_type": "stream",
     "text": [
      "100%|██████████| 10/10 [00:08<00:00,  1.23it/s]\n"
     ]
    },
    {
     "name": "stdout",
     "output_type": "stream",
     "text": [
      "training model for d = 10, s0 = 110, feature key = r-NN\n"
     ]
    },
    {
     "name": "stderr",
     "output_type": "stream",
     "text": [
      "100%|██████████| 10/10 [00:07<00:00,  1.36it/s]\n"
     ]
    }
   ],
   "source": [
    "results = main()"
   ]
  },
  {
   "cell_type": "code",
   "execution_count": 8,
   "id": "3f29889d",
   "metadata": {
    "execution": {
     "iopub.execute_input": "2022-05-08T14:31:47.740321Z",
     "iopub.status.busy": "2022-05-08T14:31:47.740018Z",
     "iopub.status.idle": "2022-05-08T14:31:47.817799Z",
     "shell.execute_reply": "2022-05-08T14:31:47.816877Z"
    },
    "papermill": {
     "duration": 0.183523,
     "end_time": "2022-05-08T14:31:47.820035",
     "exception": false,
     "start_time": "2022-05-08T14:31:47.636512",
     "status": "completed"
    },
    "tags": []
   },
   "outputs": [
    {
     "data": {
      "text/html": [
       "<div>\n",
       "<style scoped>\n",
       "    .dataframe tbody tr th:only-of-type {\n",
       "        vertical-align: middle;\n",
       "    }\n",
       "\n",
       "    .dataframe tbody tr th {\n",
       "        vertical-align: top;\n",
       "    }\n",
       "\n",
       "    .dataframe thead th {\n",
       "        text-align: right;\n",
       "    }\n",
       "</style>\n",
       "<table border=\"1\" class=\"dataframe\">\n",
       "  <thead>\n",
       "    <tr style=\"text-align: right;\">\n",
       "      <th></th>\n",
       "      <th>Features</th>\n",
       "      <th>d</th>\n",
       "      <th>S_0</th>\n",
       "      <th>Price</th>\n",
       "      <th>s.e.</th>\n",
       "      <th>L</th>\n",
       "      <th>U</th>\n",
       "      <th>Point Est.</th>\n",
       "      <th>ci_lower</th>\n",
       "      <th>ci_upper</th>\n",
       "    </tr>\n",
       "  </thead>\n",
       "  <tbody>\n",
       "    <tr>\n",
       "      <th>0</th>\n",
       "      <td>base</td>\n",
       "      <td>5</td>\n",
       "      <td>90</td>\n",
       "      <td>16.332806</td>\n",
       "      <td>0.031760</td>\n",
       "      <td>16.536993</td>\n",
       "      <td>16.893068</td>\n",
       "      <td>16.715031</td>\n",
       "      <td>16.298166</td>\n",
       "      <td>16.932413</td>\n",
       "    </tr>\n",
       "    <tr>\n",
       "      <th>1</th>\n",
       "      <td>ls</td>\n",
       "      <td>5</td>\n",
       "      <td>90</td>\n",
       "      <td>16.561623</td>\n",
       "      <td>0.036172</td>\n",
       "      <td>16.406308</td>\n",
       "      <td>16.568037</td>\n",
       "      <td>16.487173</td>\n",
       "      <td>16.172220</td>\n",
       "      <td>16.593335</td>\n",
       "    </tr>\n",
       "    <tr>\n",
       "      <th>2</th>\n",
       "      <td>r-NN</td>\n",
       "      <td>5</td>\n",
       "      <td>90</td>\n",
       "      <td>16.632384</td>\n",
       "      <td>0.041347</td>\n",
       "      <td>16.558710</td>\n",
       "      <td>16.784741</td>\n",
       "      <td>16.671726</td>\n",
       "      <td>16.325320</td>\n",
       "      <td>16.809421</td>\n",
       "    </tr>\n",
       "    <tr>\n",
       "      <th>3</th>\n",
       "      <td>base</td>\n",
       "      <td>5</td>\n",
       "      <td>100</td>\n",
       "      <td>25.706096</td>\n",
       "      <td>0.056941</td>\n",
       "      <td>25.718488</td>\n",
       "      <td>26.275597</td>\n",
       "      <td>25.997043</td>\n",
       "      <td>25.431706</td>\n",
       "      <td>26.324139</td>\n",
       "    </tr>\n",
       "    <tr>\n",
       "      <th>4</th>\n",
       "      <td>ls</td>\n",
       "      <td>5</td>\n",
       "      <td>100</td>\n",
       "      <td>26.009517</td>\n",
       "      <td>0.019830</td>\n",
       "      <td>26.033665</td>\n",
       "      <td>26.210232</td>\n",
       "      <td>26.121948</td>\n",
       "      <td>25.753308</td>\n",
       "      <td>26.235331</td>\n",
       "    </tr>\n",
       "    <tr>\n",
       "      <th>5</th>\n",
       "      <td>r-NN</td>\n",
       "      <td>5</td>\n",
       "      <td>100</td>\n",
       "      <td>25.943786</td>\n",
       "      <td>0.044845</td>\n",
       "      <td>26.000899</td>\n",
       "      <td>26.319289</td>\n",
       "      <td>26.160094</td>\n",
       "      <td>25.720621</td>\n",
       "      <td>26.349547</td>\n",
       "    </tr>\n",
       "    <tr>\n",
       "      <th>6</th>\n",
       "      <td>base</td>\n",
       "      <td>5</td>\n",
       "      <td>110</td>\n",
       "      <td>36.242378</td>\n",
       "      <td>0.058262</td>\n",
       "      <td>36.172890</td>\n",
       "      <td>36.826386</td>\n",
       "      <td>36.499638</td>\n",
       "      <td>35.845320</td>\n",
       "      <td>36.877747</td>\n",
       "    </tr>\n",
       "    <tr>\n",
       "      <th>7</th>\n",
       "      <td>ls</td>\n",
       "      <td>5</td>\n",
       "      <td>110</td>\n",
       "      <td>36.585899</td>\n",
       "      <td>0.029869</td>\n",
       "      <td>36.888843</td>\n",
       "      <td>37.148242</td>\n",
       "      <td>37.018542</td>\n",
       "      <td>36.577445</td>\n",
       "      <td>37.181591</td>\n",
       "    </tr>\n",
       "    <tr>\n",
       "      <th>8</th>\n",
       "      <td>r-NN</td>\n",
       "      <td>5</td>\n",
       "      <td>110</td>\n",
       "      <td>36.437573</td>\n",
       "      <td>0.052520</td>\n",
       "      <td>36.231825</td>\n",
       "      <td>36.674703</td>\n",
       "      <td>36.453264</td>\n",
       "      <td>35.914919</td>\n",
       "      <td>36.718391</td>\n",
       "    </tr>\n",
       "    <tr>\n",
       "      <th>9</th>\n",
       "      <td>base</td>\n",
       "      <td>10</td>\n",
       "      <td>90</td>\n",
       "      <td>25.949159</td>\n",
       "      <td>0.037861</td>\n",
       "      <td>26.080325</td>\n",
       "      <td>26.662431</td>\n",
       "      <td>26.371378</td>\n",
       "      <td>25.805608</td>\n",
       "      <td>26.724390</td>\n",
       "    </tr>\n",
       "    <tr>\n",
       "      <th>10</th>\n",
       "      <td>ls</td>\n",
       "      <td>10</td>\n",
       "      <td>90</td>\n",
       "      <td>25.599323</td>\n",
       "      <td>0.052575</td>\n",
       "      <td>25.650799</td>\n",
       "      <td>26.621435</td>\n",
       "      <td>26.136117</td>\n",
       "      <td>25.420023</td>\n",
       "      <td>26.721229</td>\n",
       "    </tr>\n",
       "    <tr>\n",
       "      <th>11</th>\n",
       "      <td>r-NN</td>\n",
       "      <td>10</td>\n",
       "      <td>90</td>\n",
       "      <td>25.967703</td>\n",
       "      <td>0.046274</td>\n",
       "      <td>25.820813</td>\n",
       "      <td>26.411989</td>\n",
       "      <td>26.116401</td>\n",
       "      <td>25.555653</td>\n",
       "      <td>26.469565</td>\n",
       "    </tr>\n",
       "    <tr>\n",
       "      <th>12</th>\n",
       "      <td>base</td>\n",
       "      <td>10</td>\n",
       "      <td>100</td>\n",
       "      <td>37.743819</td>\n",
       "      <td>0.048983</td>\n",
       "      <td>38.014649</td>\n",
       "      <td>38.622623</td>\n",
       "      <td>38.318636</td>\n",
       "      <td>37.702313</td>\n",
       "      <td>38.676213</td>\n",
       "    </tr>\n",
       "    <tr>\n",
       "      <th>13</th>\n",
       "      <td>ls</td>\n",
       "      <td>10</td>\n",
       "      <td>100</td>\n",
       "      <td>37.213933</td>\n",
       "      <td>0.040280</td>\n",
       "      <td>36.852263</td>\n",
       "      <td>39.031177</td>\n",
       "      <td>37.941720</td>\n",
       "      <td>36.594842</td>\n",
       "      <td>39.197026</td>\n",
       "    </tr>\n",
       "    <tr>\n",
       "      <th>14</th>\n",
       "      <td>r-NN</td>\n",
       "      <td>10</td>\n",
       "      <td>100</td>\n",
       "      <td>37.847447</td>\n",
       "      <td>0.046341</td>\n",
       "      <td>37.882544</td>\n",
       "      <td>38.813463</td>\n",
       "      <td>38.348003</td>\n",
       "      <td>37.583821</td>\n",
       "      <td>38.901191</td>\n",
       "    </tr>\n",
       "    <tr>\n",
       "      <th>15</th>\n",
       "      <td>base</td>\n",
       "      <td>10</td>\n",
       "      <td>110</td>\n",
       "      <td>50.317829</td>\n",
       "      <td>0.063229</td>\n",
       "      <td>50.491967</td>\n",
       "      <td>51.311231</td>\n",
       "      <td>50.901599</td>\n",
       "      <td>50.143598</td>\n",
       "      <td>51.382855</td>\n",
       "    </tr>\n",
       "    <tr>\n",
       "      <th>16</th>\n",
       "      <td>ls</td>\n",
       "      <td>10</td>\n",
       "      <td>110</td>\n",
       "      <td>49.447438</td>\n",
       "      <td>0.052251</td>\n",
       "      <td>49.396659</td>\n",
       "      <td>51.760900</td>\n",
       "      <td>50.578780</td>\n",
       "      <td>49.108117</td>\n",
       "      <td>51.944790</td>\n",
       "    </tr>\n",
       "    <tr>\n",
       "      <th>17</th>\n",
       "      <td>r-NN</td>\n",
       "      <td>10</td>\n",
       "      <td>110</td>\n",
       "      <td>50.515841</td>\n",
       "      <td>0.033203</td>\n",
       "      <td>50.334070</td>\n",
       "      <td>51.017433</td>\n",
       "      <td>50.675752</td>\n",
       "      <td>49.991558</td>\n",
       "      <td>51.088687</td>\n",
       "    </tr>\n",
       "  </tbody>\n",
       "</table>\n",
       "</div>"
      ],
      "text/plain": [
       "   Features   d  S_0      Price      s.e.          L          U  Point Est.  \\\n",
       "0      base   5   90  16.332806  0.031760  16.536993  16.893068   16.715031   \n",
       "1        ls   5   90  16.561623  0.036172  16.406308  16.568037   16.487173   \n",
       "2      r-NN   5   90  16.632384  0.041347  16.558710  16.784741   16.671726   \n",
       "3      base   5  100  25.706096  0.056941  25.718488  26.275597   25.997043   \n",
       "4        ls   5  100  26.009517  0.019830  26.033665  26.210232   26.121948   \n",
       "5      r-NN   5  100  25.943786  0.044845  26.000899  26.319289   26.160094   \n",
       "6      base   5  110  36.242378  0.058262  36.172890  36.826386   36.499638   \n",
       "7        ls   5  110  36.585899  0.029869  36.888843  37.148242   37.018542   \n",
       "8      r-NN   5  110  36.437573  0.052520  36.231825  36.674703   36.453264   \n",
       "9      base  10   90  25.949159  0.037861  26.080325  26.662431   26.371378   \n",
       "10       ls  10   90  25.599323  0.052575  25.650799  26.621435   26.136117   \n",
       "11     r-NN  10   90  25.967703  0.046274  25.820813  26.411989   26.116401   \n",
       "12     base  10  100  37.743819  0.048983  38.014649  38.622623   38.318636   \n",
       "13       ls  10  100  37.213933  0.040280  36.852263  39.031177   37.941720   \n",
       "14     r-NN  10  100  37.847447  0.046341  37.882544  38.813463   38.348003   \n",
       "15     base  10  110  50.317829  0.063229  50.491967  51.311231   50.901599   \n",
       "16       ls  10  110  49.447438  0.052251  49.396659  51.760900   50.578780   \n",
       "17     r-NN  10  110  50.515841  0.033203  50.334070  51.017433   50.675752   \n",
       "\n",
       "     ci_lower   ci_upper  \n",
       "0   16.298166  16.932413  \n",
       "1   16.172220  16.593335  \n",
       "2   16.325320  16.809421  \n",
       "3   25.431706  26.324139  \n",
       "4   25.753308  26.235331  \n",
       "5   25.720621  26.349547  \n",
       "6   35.845320  36.877747  \n",
       "7   36.577445  37.181591  \n",
       "8   35.914919  36.718391  \n",
       "9   25.805608  26.724390  \n",
       "10  25.420023  26.721229  \n",
       "11  25.555653  26.469565  \n",
       "12  37.702313  38.676213  \n",
       "13  36.594842  39.197026  \n",
       "14  37.583821  38.901191  \n",
       "15  50.143598  51.382855  \n",
       "16  49.108117  51.944790  \n",
       "17  49.991558  51.088687  "
      ]
     },
     "execution_count": 8,
     "metadata": {},
     "output_type": "execute_result"
    }
   ],
   "source": [
    "results"
   ]
  },
  {
   "cell_type": "code",
   "execution_count": 9,
   "id": "307f65d6",
   "metadata": {
    "execution": {
     "iopub.execute_input": "2022-05-08T14:31:48.024652Z",
     "iopub.status.busy": "2022-05-08T14:31:48.024306Z",
     "iopub.status.idle": "2022-05-08T14:31:48.090736Z",
     "shell.execute_reply": "2022-05-08T14:31:48.089664Z"
    },
    "papermill": {
     "duration": 0.172814,
     "end_time": "2022-05-08T14:31:48.094798",
     "exception": false,
     "start_time": "2022-05-08T14:31:47.921984",
     "status": "completed"
    },
    "tags": []
   },
   "outputs": [
    {
     "name": "stdout",
     "output_type": "stream",
     "text": [
      "\\begin{tabular}{lrrrrrrrrr}\n",
      "\\toprule\n",
      "Features &  d &  S\\_0 &  Price &  s.e. &     L &     U &  Point Est. &  ci\\_lower &  ci\\_upper \\\\\n",
      "\\midrule\n",
      "    base &  5 &   90 &  16.33 &  0.03 & 16.54 & 16.89 &       16.72 &     16.30 &     16.93 \\\\\n",
      "      ls &  5 &   90 &  16.56 &  0.04 & 16.41 & 16.57 &       16.49 &     16.17 &     16.59 \\\\\n",
      "    r-NN &  5 &   90 &  16.63 &  0.04 & 16.56 & 16.78 &       16.67 &     16.33 &     16.81 \\\\\n",
      "    base &  5 &  100 &  25.71 &  0.06 & 25.72 & 26.28 &       26.00 &     25.43 &     26.32 \\\\\n",
      "      ls &  5 &  100 &  26.01 &  0.02 & 26.03 & 26.21 &       26.12 &     25.75 &     26.24 \\\\\n",
      "    r-NN &  5 &  100 &  25.94 &  0.04 & 26.00 & 26.32 &       26.16 &     25.72 &     26.35 \\\\\n",
      "    base &  5 &  110 &  36.24 &  0.06 & 36.17 & 36.83 &       36.50 &     35.85 &     36.88 \\\\\n",
      "      ls &  5 &  110 &  36.59 &  0.03 & 36.89 & 37.15 &       37.02 &     36.58 &     37.18 \\\\\n",
      "    r-NN &  5 &  110 &  36.44 &  0.05 & 36.23 & 36.67 &       36.45 &     35.91 &     36.72 \\\\\n",
      "    base & 10 &   90 &  25.95 &  0.04 & 26.08 & 26.66 &       26.37 &     25.81 &     26.72 \\\\\n",
      "      ls & 10 &   90 &  25.60 &  0.05 & 25.65 & 26.62 &       26.14 &     25.42 &     26.72 \\\\\n",
      "    r-NN & 10 &   90 &  25.97 &  0.05 & 25.82 & 26.41 &       26.12 &     25.56 &     26.47 \\\\\n",
      "    base & 10 &  100 &  37.74 &  0.05 & 38.01 & 38.62 &       38.32 &     37.70 &     38.68 \\\\\n",
      "      ls & 10 &  100 &  37.21 &  0.04 & 36.85 & 39.03 &       37.94 &     36.59 &     39.20 \\\\\n",
      "    r-NN & 10 &  100 &  37.85 &  0.05 & 37.88 & 38.81 &       38.35 &     37.58 &     38.90 \\\\\n",
      "    base & 10 &  110 &  50.32 &  0.06 & 50.49 & 51.31 &       50.90 &     50.14 &     51.38 \\\\\n",
      "      ls & 10 &  110 &  49.45 &  0.05 & 49.40 & 51.76 &       50.58 &     49.11 &     51.94 \\\\\n",
      "    r-NN & 10 &  110 &  50.52 &  0.03 & 50.33 & 51.02 &       50.68 &     49.99 &     51.09 \\\\\n",
      "\\bottomrule\n",
      "\\end{tabular}\n",
      "\n"
     ]
    }
   ],
   "source": [
    "print(results.to_latex(float_format=\"%.2f\", index=False))"
   ]
  }
 ],
 "metadata": {
  "kernelspec": {
   "display_name": "Python 3",
   "language": "python",
   "name": "python3"
  },
  "language_info": {
   "codemirror_mode": {
    "name": "ipython",
    "version": 3
   },
   "file_extension": ".py",
   "mimetype": "text/x-python",
   "name": "python",
   "nbconvert_exporter": "python",
   "pygments_lexer": "ipython3",
   "version": "3.7.12"
  },
  "papermill": {
   "default_parameters": {},
   "duration": 5553.051067,
   "end_time": "2022-05-08T14:31:49.436038",
   "environment_variables": {},
   "exception": null,
   "input_path": "__notebook__.ipynb",
   "output_path": "__notebook__.ipynb",
   "parameters": {},
   "start_time": "2022-05-08T12:59:16.384971",
   "version": "2.3.4"
  }
 },
 "nbformat": 4,
 "nbformat_minor": 5
}
