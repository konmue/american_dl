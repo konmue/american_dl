{
 "cells": [
  {
   "cell_type": "code",
   "execution_count": 1,
   "id": "8e5df416",
   "metadata": {
    "_cell_guid": "b1076dfc-b9ad-4769-8c92-a6c4dae69d19",
    "_uuid": "8f2839f25d086af736a60e9eeb907d3b93b6e0e5",
    "execution": {
     "iopub.execute_input": "2022-05-08T15:03:34.564965Z",
     "iopub.status.busy": "2022-05-08T15:03:34.564484Z",
     "iopub.status.idle": "2022-05-08T15:03:34.613368Z",
     "shell.execute_reply": "2022-05-08T15:03:34.612217Z"
    },
    "papermill": {
     "duration": 0.065123,
     "end_time": "2022-05-08T15:03:34.616410",
     "exception": false,
     "start_time": "2022-05-08T15:03:34.551287",
     "status": "completed"
    },
    "tags": []
   },
   "outputs": [],
   "source": [
    "%load_ext autoreload\n",
    "%autoreload 2"
   ]
  },
  {
   "cell_type": "code",
   "execution_count": 2,
   "id": "76f81b6e",
   "metadata": {
    "execution": {
     "iopub.execute_input": "2022-05-08T15:03:34.638287Z",
     "iopub.status.busy": "2022-05-08T15:03:34.638027Z",
     "iopub.status.idle": "2022-05-08T15:03:34.673218Z",
     "shell.execute_reply": "2022-05-08T15:03:34.672067Z"
    },
    "papermill": {
     "duration": 0.047913,
     "end_time": "2022-05-08T15:03:34.675703",
     "exception": false,
     "start_time": "2022-05-08T15:03:34.627790",
     "status": "completed"
    },
    "tags": []
   },
   "outputs": [],
   "source": [
    "import os\n",
    "\n",
    "origin_path = \"/kaggle/working\"\n",
    "repo_path = \"/kaggle/working/american_options\""
   ]
  },
  {
   "cell_type": "code",
   "execution_count": 3,
   "id": "66311b8e",
   "metadata": {
    "execution": {
     "iopub.execute_input": "2022-05-08T15:03:34.698812Z",
     "iopub.status.busy": "2022-05-08T15:03:34.698549Z",
     "iopub.status.idle": "2022-05-08T15:03:37.955883Z",
     "shell.execute_reply": "2022-05-08T15:03:37.954638Z"
    },
    "papermill": {
     "duration": 3.271808,
     "end_time": "2022-05-08T15:03:37.958534",
     "exception": false,
     "start_time": "2022-05-08T15:03:34.686726",
     "status": "completed"
    },
    "tags": []
   },
   "outputs": [],
   "source": [
    "%%capture\n",
    "!rm -rf /kaggle/working/\n",
    "!git clone https://github.com/konmue/american_options.git"
   ]
  },
  {
   "cell_type": "code",
   "execution_count": 4,
   "id": "b801878d",
   "metadata": {
    "execution": {
     "iopub.execute_input": "2022-05-08T15:03:37.981298Z",
     "iopub.status.busy": "2022-05-08T15:03:37.980773Z",
     "iopub.status.idle": "2022-05-08T15:03:38.024573Z",
     "shell.execute_reply": "2022-05-08T15:03:38.023552Z"
    },
    "papermill": {
     "duration": 0.058236,
     "end_time": "2022-05-08T15:03:38.027163",
     "exception": false,
     "start_time": "2022-05-08T15:03:37.968927",
     "status": "completed"
    },
    "tags": []
   },
   "outputs": [],
   "source": [
    "os.chdir(repo_path)"
   ]
  },
  {
   "cell_type": "code",
   "execution_count": 5,
   "id": "bcc867b4",
   "metadata": {
    "execution": {
     "iopub.execute_input": "2022-05-08T15:03:38.047850Z",
     "iopub.status.busy": "2022-05-08T15:03:38.047456Z",
     "iopub.status.idle": "2022-05-08T15:03:40.711767Z",
     "shell.execute_reply": "2022-05-08T15:03:40.710787Z"
    },
    "papermill": {
     "duration": 2.67735,
     "end_time": "2022-05-08T15:03:40.714059",
     "exception": false,
     "start_time": "2022-05-08T15:03:38.036709",
     "status": "completed"
    },
    "tags": []
   },
   "outputs": [],
   "source": [
    "%%capture\n",
    "!python setup.py install"
   ]
  },
  {
   "cell_type": "code",
   "execution_count": 6,
   "id": "07d3becf",
   "metadata": {
    "execution": {
     "iopub.execute_input": "2022-05-08T15:03:40.737209Z",
     "iopub.status.busy": "2022-05-08T15:03:40.736092Z",
     "iopub.status.idle": "2022-05-08T15:03:53.012757Z",
     "shell.execute_reply": "2022-05-08T15:03:53.011400Z"
    },
    "papermill": {
     "duration": 12.292309,
     "end_time": "2022-05-08T15:03:53.016568",
     "exception": false,
     "start_time": "2022-05-08T15:03:40.724259",
     "status": "completed"
    },
    "tags": []
   },
   "outputs": [],
   "source": [
    "import pandas as pd\n",
    "\n",
    "from deep_ao.algorithms.dos.main import main"
   ]
  },
  {
   "cell_type": "code",
   "execution_count": 7,
   "id": "30ceec1f",
   "metadata": {
    "execution": {
     "iopub.execute_input": "2022-05-08T15:03:53.037937Z",
     "iopub.status.busy": "2022-05-08T15:03:53.037081Z",
     "iopub.status.idle": "2022-05-08T17:13:24.895742Z",
     "shell.execute_reply": "2022-05-08T17:13:24.894088Z"
    },
    "papermill": {
     "duration": 7771.872072,
     "end_time": "2022-05-08T17:13:24.898352",
     "exception": false,
     "start_time": "2022-05-08T15:03:53.026280",
     "status": "completed"
    },
    "tags": []
   },
   "outputs": [
    {
     "name": "stdout",
     "output_type": "stream",
     "text": [
      "training model for d = 5, s0 = 90\n"
     ]
    },
    {
     "name": "stderr",
     "output_type": "stream",
     "text": [
      "100%|██████████| 1500/1500 [19:26<00:00,  1.29it/s, loss=-.254]\n",
      "100%|██████████| 9/9 [00:43<00:00,  4.86s/it]\n"
     ]
    },
    {
     "name": "stdout",
     "output_type": "stream",
     "text": [
      "(16.60218620300293, 16.647567749023438, 16.624876976013184, 16.587937298319844, 16.659349614397144)\n",
      "training model for d = 5, s0 = 100\n"
     ]
    },
    {
     "name": "stderr",
     "output_type": "stream",
     "text": [
      "100%|██████████| 1500/1500 [19:34<00:00,  1.28it/s, loss=-.408]\n",
      "100%|██████████| 9/9 [00:43<00:00,  4.87s/it]\n"
     ]
    },
    {
     "name": "stdout",
     "output_type": "stream",
     "text": [
      "(26.114530563354492, 26.177080154418945, 26.14580535888672, 26.09743893722133, 26.190555975487165)\n",
      "training model for d = 5, s0 = 110\n"
     ]
    },
    {
     "name": "stderr",
     "output_type": "stream",
     "text": [
      "100%|██████████| 1500/1500 [19:11<00:00,  1.30it/s, loss=-.514]\n",
      "100%|██████████| 9/9 [00:42<00:00,  4.68s/it]\n"
     ]
    },
    {
     "name": "stdout",
     "output_type": "stream",
     "text": [
      "(37.78224563598633, 37.86470031738281, 37.82347297668457, 37.76437218835345, 37.880671076147834)\n",
      "training model for d = 10, s0 = 90\n"
     ]
    },
    {
     "name": "stderr",
     "output_type": "stream",
     "text": [
      "100%|██████████| 1500/1500 [19:51<00:00,  1.26it/s, loss=-.241]\n",
      "100%|██████████| 9/9 [00:56<00:00,  6.31s/it]\n"
     ]
    },
    {
     "name": "stdout",
     "output_type": "stream",
     "text": [
      "(26.143035888671875, 26.298290252685547, 26.22066307067871, 26.12639172558372, 26.328069532435695)\n",
      "training model for d = 10, s0 = 100\n"
     ]
    },
    {
     "name": "stderr",
     "output_type": "stream",
     "text": [
      "100%|██████████| 1500/1500 [19:57<00:00,  1.25it/s, loss=-.35]\n",
      "100%|██████████| 9/9 [00:56<00:00,  6.26s/it]\n"
     ]
    },
    {
     "name": "stdout",
     "output_type": "stream",
     "text": [
      "(38.22684097290039, 38.454261779785156, 38.34055137634277, 38.2079296540209, 38.49028993593726)\n",
      "training model for d = 10, s0 = 110\n"
     ]
    },
    {
     "name": "stderr",
     "output_type": "stream",
     "text": [
      "100%|██████████| 1500/1500 [20:02<00:00,  1.25it/s, loss=-.421]\n",
      "100%|██████████| 9/9 [00:55<00:00,  6.12s/it]\n"
     ]
    },
    {
     "name": "stdout",
     "output_type": "stream",
     "text": [
      "(50.95270538330078, 51.169677734375, 51.06119155883789, 50.93209942319152, 51.220759736933175)\n"
     ]
    }
   ],
   "source": [
    "results = main()"
   ]
  },
  {
   "cell_type": "code",
   "execution_count": 8,
   "id": "7d3b9189",
   "metadata": {
    "execution": {
     "iopub.execute_input": "2022-05-08T17:13:38.300525Z",
     "iopub.status.busy": "2022-05-08T17:13:38.300230Z",
     "iopub.status.idle": "2022-05-08T17:13:38.450273Z",
     "shell.execute_reply": "2022-05-08T17:13:38.449391Z"
    },
    "papermill": {
     "duration": 6.799061,
     "end_time": "2022-05-08T17:13:38.453205",
     "exception": false,
     "start_time": "2022-05-08T17:13:31.654144",
     "status": "completed"
    },
    "tags": []
   },
   "outputs": [
    {
     "name": "stdout",
     "output_type": "stream",
     "text": [
      "\\begin{tabular}{lrrrrrrr}\n",
      "\\toprule\n",
      "{} &   d &  S\\_0 &     L &     U &  Point Est. &  ci\\_lower &  ci\\_upper \\\\\n",
      "\\midrule\n",
      "0 &   5 &   90 & 16.60 & 16.65 &       16.62 &     16.59 &     16.66 \\\\\n",
      "1 &   5 &  100 & 26.11 & 26.18 &       26.15 &     26.10 &     26.19 \\\\\n",
      "2 &   5 &  110 & 37.78 & 37.86 &       37.82 &     37.76 &     37.88 \\\\\n",
      "3 &  10 &   90 & 26.14 & 26.30 &       26.22 &     26.13 &     26.33 \\\\\n",
      "4 &  10 &  100 & 38.23 & 38.45 &       38.34 &     38.21 &     38.49 \\\\\n",
      "5 &  10 &  110 & 50.95 & 51.17 &       51.06 &     50.93 &     51.22 \\\\\n",
      "\\bottomrule\n",
      "\\end{tabular}\n",
      "\n"
     ]
    }
   ],
   "source": [
    "print(results.to_latex(float_format=\"%.2f\"))"
   ]
  }
 ],
 "metadata": {
  "kernelspec": {
   "display_name": "Python 3",
   "language": "python",
   "name": "python3"
  },
  "language_info": {
   "codemirror_mode": {
    "name": "ipython",
    "version": 3
   },
   "file_extension": ".py",
   "mimetype": "text/x-python",
   "name": "python",
   "nbconvert_exporter": "python",
   "pygments_lexer": "ipython3",
   "version": "3.7.12"
  },
  "papermill": {
   "default_parameters": {},
   "duration": 7825.260093,
   "end_time": "2022-05-08T17:13:47.940720",
   "environment_variables": {},
   "exception": null,
   "input_path": "__notebook__.ipynb",
   "output_path": "__notebook__.ipynb",
   "parameters": {},
   "start_time": "2022-05-08T15:03:22.680627",
   "version": "2.3.4"
  }
 },
 "nbformat": 4,
 "nbformat_minor": 5
}
